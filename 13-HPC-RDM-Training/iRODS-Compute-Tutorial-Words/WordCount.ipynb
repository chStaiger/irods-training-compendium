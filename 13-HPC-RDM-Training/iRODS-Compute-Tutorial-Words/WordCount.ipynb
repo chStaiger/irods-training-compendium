{
 "cells": [
  {
   "cell_type": "markdown",
   "metadata": {},
   "source": [
    "# Wordcount - an example how to work on a compute cluster with data stored in iRODS\n",
    "\n",
    "## Imports\n",
    "- Standard python modules to do file operations and generate timestamps\n",
    "- Own library of useful functions\n",
    "- The necessary iRODS modules for connecting to iRODS, Data, Collection and Metadata operations inside of iRODS"
   ]
  },
  {
   "cell_type": "code",
   "execution_count": null,
   "metadata": {},
   "outputs": [],
   "source": [
    "import os\n",
    "import json\n",
    "import string\n",
    "import datetime\n",
    "from collections import Counter\n",
    "from shutil import rmtree\n",
    "from pathlib import Path\n",
    "from helperFunctions import *\n",
    "\n",
    "from irods.session import iRODSSession\n",
    "from irods.models import Collection, DataObject, CollectionMeta, DataObjectMeta"
   ]
  },
  {
   "cell_type": "markdown",
   "metadata": {},
   "source": [
    "## Connecting to iRODS\n",
    "### Standard login\n",
    "On a standard iRODS environment you can login with your username and password, you will also have to provide the port, the zonename and the host address."
   ]
  },
  {
   "cell_type": "code",
   "execution_count": null,
   "metadata": {},
   "outputs": [],
   "source": [
    "#PARAMETERS\n",
    "# iRODS connection\n",
    "host='<FILL IN>'\n",
    "port=1247\n",
    "user='<FILL IN>'\n",
    "zone='<FILL IN>'\n",
    "\n",
    "# create passwd file with your password and read it from there\n",
    "with open('passwd', 'r') as f:\n",
    "    passwd = f.readline().strip()"
   ]
  },
  {
   "cell_type": "markdown",
   "metadata": {},
   "source": [
    "### Login to SSL enabled iRODS\n",
    "To increase the security of messages exchanged between you and the iRODS server SSL encryption is used. In that case your iRODS sys-admin will give you a file `irods-environment.json` which contains all parameters to connect to the server. Please store that file in your home-directory `~/.irods/irods-environment.json`.\n",
    "We will use thios file to connect to the iRODS server like this:"
   ]
  },
  {
   "cell_type": "code",
   "execution_count": null,
   "metadata": {},
   "outputs": [],
   "source": [
    "with open('passwd', 'r') as f:\n",
    "    passwd = f.readline().strip()\n",
    "    \n",
    "\n",
    "with open(os.path.expanduser(\"~/.irods/irods_environment.json\"), \"r\") as f:\n",
    "    ienv = json.load(f)\n",
    "session = iRODSSession(**ienv, password=passwd)"
   ]
  },
  {
   "cell_type": "markdown",
   "metadata": {},
   "source": [
    "Now we can check to which iRODS collections we have access to. The usual home directory for users and groups you can find in the collection '/zonename/home'. In some cases this collection is not open to users and you need to directly lookinto your personal home collection '/zonename/home/username'"
   ]
  },
  {
   "cell_type": "code",
   "execution_count": null,
   "metadata": {},
   "outputs": [],
   "source": [
    "# Path to general home\n",
    "homeCollPath = '/' + session.zone + '/home/'\n",
    "homeColl = session.collections.get(homeCollPath)\n",
    "print(\"Data objects in\", homeCollPath, homeColl.data_objects)\n",
    "print(\"Subcollections in\", homeCollPath, homeColl.subcollections)"
   ]
  },
  {
   "cell_type": "code",
   "execution_count": null,
   "metadata": {},
   "outputs": [],
   "source": [
    "# Path to personal home\n",
    "#homeCollPath = '/' + session.zone + '/home/' + session.username\n",
    "#homeColl = session.collections.get(homeCollPath)\n",
    "#print(\"Data objects in\", homeCollPath, homeColl.data_objects)\n",
    "#print(\"Subcollections in\", homeCollPath, homeColl.subcollections)"
   ]
  },
  {
   "cell_type": "markdown",
   "metadata": {},
   "source": [
    "## Some general remarks on data objects and collections\n",
    "We see in the output above, that a collection is not represented by a simple string but it is a python object with some useful functions:"
   ]
  },
  {
   "cell_type": "code",
   "execution_count": null,
   "metadata": {},
   "outputs": [],
   "source": [
    "print(\"Path:\", homeColl.path)\n",
    "print(\"Name:\", homeColl.name)"
   ]
  },
  {
   "cell_type": "markdown",
   "metadata": {},
   "source": [
    "The same is true for data objects. Let's inspect one of the data objects that we will also use in the pipeline below"
   ]
  },
  {
   "cell_type": "code",
   "execution_count": null,
   "metadata": {},
   "outputs": [],
   "source": [
    "objPath = \"/nluu12p/home/research-test-christine/books/AdventuresSherlockHolmes.txt\"\n",
    "obj = session.data_objects.get(objPath)\n",
    "print(\"Path:\", obj.path)\n",
    "print(\"Name:\", obj.name)"
   ]
  },
  {
   "cell_type": "markdown",
   "metadata": {},
   "source": [
    "For data objects we also have some system metadata available:"
   ]
  },
  {
   "cell_type": "code",
   "execution_count": null,
   "metadata": {},
   "outputs": [],
   "source": [
    "print(\"Size:\", obj.size)\n",
    "print(\"Checksum\", obj.checksum)"
   ]
  },
  {
   "cell_type": "markdown",
   "metadata": {},
   "source": [
    "Both, collections and data objects can be annotated with metadata directly. We can retrieve the metadata as a python object. However, we cannot access that metadata right away in human readable format:"
   ]
  },
  {
   "cell_type": "code",
   "execution_count": null,
   "metadata": {},
   "outputs": [],
   "source": [
    "print(\"Coll metadata:\", homeColl.metadata)\n",
    "print(\"Obj metadata:\", obj.metadata)"
   ]
  },
  {
   "cell_type": "markdown",
   "metadata": {},
   "source": [
    "Here a small showcase how to get the keys and values of the metadata from our object:"
   ]
  },
  {
   "cell_type": "code",
   "execution_count": null,
   "metadata": {},
   "outputs": [],
   "source": [
    "for item in obj.metadata.items():\n",
    "    # Retrieve key(name), value, units\n",
    "    print(\"Key:\", item.name, \", Value:\", item.value, \", Units:\", item.units)"
   ]
  },
  {
   "cell_type": "markdown",
   "metadata": {},
   "source": [
    "This metadata we are going to use in the following pipeline. We will search for books written by a specific author and analyse their contents."
   ]
  },
  {
   "cell_type": "markdown",
   "metadata": {},
   "source": [
    "## Parameters for our computational pipeline\n",
    "- Keywords and their values to search for the correct data in iRODS\n",
    "- Setting up the folder structure on fast storage of the compute cluster.\n",
    "  The data stored here is **not backed up**, nor safely stored, this storage is just used to allow very quick calculations on the data."
   ]
  },
  {
   "cell_type": "code",
   "execution_count": null,
   "metadata": {},
   "outputs": [],
   "source": [
    "# data search\n",
    "ATTR_NAME = 'AUTHOR'\n",
    "ATTR_VALUE = 'Lewis Carroll'"
   ]
  },
  {
   "cell_type": "markdown",
   "metadata": {},
   "source": [
    "## Search for your input data\n",
    "User defined metadata is stored as Key-Value-Unit triples. In this iRODS instance we are looking for books which carry the key \"AUTHOR\" and where the value is \"Lewis Carroll\"."
   ]
  },
  {
   "cell_type": "code",
   "execution_count": null,
   "metadata": {},
   "outputs": [],
   "source": [
    "print('Searching for files')\n",
    "query = session.query(Collection.name, DataObject.name)\n",
    "# Filtering for AUTHOR == Lewis Carroll\n",
    "filteredQuery = query.filter(DataObjectMeta.name == ATTR_NAME).\\\n",
    "                          filter(DataObjectMeta.value == ATTR_VALUE)\n",
    "print(filteredQuery.all())\n",
    "irods_paths = parse_query(filteredQuery)"
   ]
  },
  {
   "cell_type": "markdown",
   "metadata": {},
   "source": [
    "## Prepare data for analysis\n",
    "To look inside of the data we have two options in iRODS:\n",
    "1. We download the data to our fast storage system and have the data available and ready for being read from there.\n",
    "2. In some cases single files can become too large to be downloaded quickly or even too large to fit into the memory of the machine you are working on. In that case we can stream files into memory, i.e. reading a file bit by bit or just the interesting parts.\n",
    "\n",
    "### Here the code example for option 1:"
   ]
  },
  {
   "cell_type": "code",
   "execution_count": null,
   "metadata": {},
   "outputs": [],
   "source": [
    "print('Downloading: ')\n",
    "data_dir = os.path.expanduser(\"~/wordcount_data\")\n",
    "ensure_dir(data_dir)\n",
    "print('\\n'.join(irods_paths))\n",
    "get_data(session, irods_paths, data_dir)"
   ]
  },
  {
   "cell_type": "markdown",
   "metadata": {},
   "source": [
    "### Reading data into memory\n",
    "In our example the data is relatively small and we have enough memory available. Moreover, it is textual data which we need to parse word by word as string anyway. Hence, we can directly load the content of the files into memory:"
   ]
  },
  {
   "cell_type": "code",
   "execution_count": null,
   "metadata": {},
   "outputs": [],
   "source": [
    "text = ''\n",
    "for path in irods_paths:\n",
    "    obj = session.data_objects.get(path)\n",
    "    with obj.open('r') as objRead:\n",
    "        text = text + objRead.read().decode()"
   ]
  },
  {
   "cell_type": "markdown",
   "metadata": {},
   "source": [
    "## Start your computational pipeline"
   ]
  },
  {
   "cell_type": "markdown",
   "metadata": {},
   "source": [
    "### Reading in data\n",
    "If you did not load the iRODS data into memory, you will now have to read in the files into one large string:\n"
   ]
  },
  {
   "cell_type": "code",
   "execution_count": null,
   "metadata": {},
   "outputs": [],
   "source": [
    "text = files_to_text(data_dir)"
   ]
  },
  {
   "cell_type": "markdown",
   "metadata": {},
   "source": [
    "### The pipeline"
   ]
  },
  {
   "cell_type": "code",
   "execution_count": null,
   "metadata": {},
   "outputs": [],
   "source": [
    "def wordcount(text):\n",
    "    # Convert to list of words, without punctuation\n",
    "    words = [''.join(char for char in word\n",
    "             if char not in string.punctuation) for word in text.split()]\n",
    "    print(\"Number of words:\", len(words))\n",
    "    unique_words_count = Counter(words)\n",
    "    return unique_words_count\n",
    "\n",
    "result = wordcount(text)"
   ]
  },
  {
   "cell_type": "markdown",
   "metadata": {},
   "source": [
    "We receive a dictionary mapping from words to the number of their occurences in all three books"
   ]
  },
  {
   "cell_type": "code",
   "execution_count": null,
   "metadata": {},
   "outputs": [],
   "source": [
    "print(\"Alice:\", result[\"Alice\"])\n",
    "print(\"Rabbit:\", result[\"Rabbit\"])\n",
    "print(\"Queen:\", result[\"Queen\"])"
   ]
  },
  {
   "cell_type": "markdown",
   "metadata": {},
   "source": [
    "Of course we can write the results to a file like this and then upload it to iRODS again."
   ]
  },
  {
   "cell_type": "code",
   "execution_count": null,
   "metadata": {},
   "outputs": [],
   "source": [
    "res_dir = os.path.expanduser(\"~/wordcount_results\")\n",
    "ensure_dir(res_dir)\n",
    "res_file = res_dir + \"/wordcount_res.txt\"\n",
    "with open(res_file, 'w') as file:\n",
    "    file.write(json.dumps(result))"
   ]
  },
  {
   "cell_type": "markdown",
   "metadata": {},
   "source": [
    "**Note**, our results are stored on the fast but not safe storage! We need to upload the data to iRODS quickly!\n",
    "## Uploading your data to safe storage through iRODS and annotating the results"
   ]
  },
  {
   "cell_type": "code",
   "execution_count": null,
   "metadata": {},
   "outputs": [],
   "source": [
    "coll = session.collections.get('/' + session.zone + '/home/' + 'research-test-christine')\n",
    "objs_names = [obj.name for obj in coll.data_objects]\n",
    "f = os.path.basename(res_file)\n",
    "# little trick to prevent overwriting of data, if the object name already exists in iRODS we extend it with a number\n",
    "count = 0\n",
    "while f in objs_names:\n",
    "        f = os.path.basename(res_file) + '_' +str(count)\n",
    "        count = count + 1"
   ]
  },
  {
   "cell_type": "code",
   "execution_count": null,
   "metadata": {},
   "outputs": [],
   "source": [
    "print('Upload results to: ', coll.path + '/' + f)\n",
    "res_obj = put_file(session, res_file, coll.path + '/' + f)"
   ]
  },
  {
   "cell_type": "markdown",
   "metadata": {},
   "source": [
    "Now, we can annontate the data in iRODS to ensure we know later where we got it from:"
   ]
  },
  {
   "cell_type": "code",
   "execution_count": null,
   "metadata": {},
   "outputs": [],
   "source": [
    "print('Adding metadata to', coll.path + '/' + f)\n",
    "obj = session.data_objects.get(coll.path + '/' + f)\n",
    "for path in irods_paths:\n",
    "        obj.metadata.add('prov:wasDerivedFrom', path)\n",
    "\n",
    "obj.metadata.add('ISEARCH', ATTR_NAME + '==' + ATTR_VALUE)\n",
    "obj.metadata.add('ISEARCHDATE', str(datetime.date.today()))\n",
    "obj.metadata.add('prov:SoftwareAgent', 'wordcount.py')"
   ]
  },
  {
   "cell_type": "markdown",
   "metadata": {},
   "source": [
    "## Streaming the results to iRODS\n",
    "To avoid creating yet another file on our system, we can also directly stream the data to iRODS."
   ]
  },
  {
   "cell_type": "code",
   "execution_count": null,
   "metadata": {},
   "outputs": [],
   "source": [
    "coll = session.collections.get('/' + session.zone + '/home/research-test-christine')\n",
    "obj_names = [obj.name for obj in coll.data_objects]\n",
    "new_obj_name = \"wordcount_result.txt\"\n",
    "\n",
    "# Ensuring that we do not overwrite a previous results file\n",
    "count = 0\n",
    "while new_obj_name in obj_names:\n",
    "        new_obj_name = new_obj_name + '_' +str(count)\n",
    "        count = count + 1"
   ]
  },
  {
   "cell_type": "markdown",
   "metadata": {},
   "source": [
    "Now that we have a valid object name for our new object we can create it and stream the content into the object:"
   ]
  },
  {
   "cell_type": "code",
   "execution_count": null,
   "metadata": {},
   "outputs": [],
   "source": [
    "obj = session.data_objects.create(coll.path + \"/\" + new_obj_name)\n",
    "with obj.open('w') as obj_write:\n",
    "    obj_write.write(json.dumps(result).encode())"
   ]
  },
  {
   "cell_type": "markdown",
   "metadata": {},
   "source": [
    "Now, we can annontate the data in iRODS to ensure we know later where we got it from:"
   ]
  },
  {
   "cell_type": "code",
   "execution_count": null,
   "metadata": {},
   "outputs": [],
   "source": [
    "print('Adding metadata to', obj.path)\n",
    "for path in irods_paths:\n",
    "        obj.metadata.add('prov:wasDerivedFrom', path)\n",
    "\n",
    "obj.metadata.add('ISEARCH', ATTR_NAME + '==' + ATTR_VALUE)\n",
    "obj.metadata.add('ISEARCHDATE', str(datetime.date.today()))\n",
    "obj.metadata.add('prov:SoftwareAgent', 'wordcount.py')"
   ]
  },
  {
   "cell_type": "markdown",
   "metadata": {},
   "source": [
    "## Last check: How is the file annotated in iRODS?"
   ]
  },
  {
   "cell_type": "code",
   "execution_count": null,
   "metadata": {},
   "outputs": [],
   "source": [
    "print('Metadata for: ', obj.path)\n",
    "print('\\n'.join([item.name +' \\t'+ item.value for item in obj.metadata.items()]))"
   ]
  },
  {
   "cell_type": "markdown",
   "metadata": {},
   "source": [
    "## Remove temporary data from scratch space"
   ]
  },
  {
   "cell_type": "code",
   "execution_count": null,
   "metadata": {},
   "outputs": [],
   "source": [
    "print(\"Removing local data in\", data_dir)\n",
    "rmtree(data_dir)\n",
    "print(\"Removing local data in\", res_dir)\n",
    "rmtree(res_dir)"
   ]
  },
  {
   "cell_type": "code",
   "execution_count": null,
   "metadata": {},
   "outputs": [],
   "source": []
  }
 ],
 "metadata": {
  "kernelspec": {
   "display_name": "Python 3 (ipykernel)",
   "language": "python",
   "name": "python3"
  },
  "language_info": {
   "codemirror_mode": {
    "name": "ipython",
    "version": 3
   },
   "file_extension": ".py",
   "mimetype": "text/x-python",
   "name": "python",
   "nbconvert_exporter": "python",
   "pygments_lexer": "ipython3",
   "version": "3.10.8"
  }
 },
 "nbformat": 4,
 "nbformat_minor": 2
}
