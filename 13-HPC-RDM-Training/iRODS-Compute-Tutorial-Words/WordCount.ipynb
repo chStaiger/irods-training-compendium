{
 "cells": [
  {
   "cell_type": "markdown",
   "metadata": {},
   "source": [
    "# Wordcount - an example how to work on a compute cluster with data stored in iRODS\n",
    "\n",
    "## Imports\n",
    "- Standard python modules to do file operations and generate timestamps\n",
    "- Own library of useful functions\n",
    "- The necessary iRODS modules for connecting to iRODS, Data, Collection and Metadata operations inside of iRODS"
   ]
  },
  {
   "cell_type": "code",
   "execution_count": null,
   "metadata": {},
   "outputs": [],
   "source": [
    "import os\n",
    "import datetime\n",
    "from shutil import rmtree\n",
    "from helperFunctions import *\n",
    "\n",
    "from irods.session import iRODSSession\n",
    "from irods.models import Collection, DataObject, CollectionMeta, DataObjectMeta"
   ]
  },
  {
   "cell_type": "markdown",
   "metadata": {},
   "source": [
    "## Connecting to iRODS"
   ]
  },
  {
   "cell_type": "code",
   "execution_count": null,
   "metadata": {},
   "outputs": [],
   "source": [
    "#PARAMETERS\n",
    "# iRODS connection\n",
    "host='<FILL IN>'\n",
    "port=1247\n",
    "user='<FILL IN>'\n",
    "zone='<FILL IN>'\n",
    "\n",
    "# create passwd file with your password and read it from there\n",
    "with open('passwd', 'r') as f:\n",
    "    passwd = f.readline().strip()"
   ]
  },
  {
   "cell_type": "markdown",
   "metadata": {},
   "source": [
    "## Parameters for our computational pipeline\n",
    "- Keywords and their values to search for the correct data in iRODS\n",
    "- Setting up the folder structure on fast storage of the compute cluster.\n",
    "  The data stored here is **not backed up**, nor safely stored, this storage is just used to allow very quick calculations on the data."
   ]
  },
  {
   "cell_type": "code",
   "execution_count": null,
   "metadata": {},
   "outputs": [],
   "source": [
    "# data search\n",
    "ATTR_NAME = 'AUTHOR'\n",
    "ATTR_VALUE = 'Lewis Carroll'"
   ]
  },
  {
   "cell_type": "code",
   "execution_count": null,
   "metadata": {},
   "outputs": [],
   "source": [
    "print('Creating local directories for analysis and results')\n",
    "dataDir = '<lustre path>/dataDir'\n",
    "ensure_dir(dataDir)\n",
    "resultsDir = '<lustre path>/resultsDir'\n",
    "ensure_dir(resultsDir)\n",
    "print('<lustre path>')"
   ]
  },
  {
   "cell_type": "code",
   "execution_count": null,
   "metadata": {},
   "outputs": [],
   "source": [
    "print('Connect to iRODS '+ zone)\n",
    "session = iRODSSession(host=host, port=port, user=user, password=passwd, zone=zone)\n",
    "print('You have access to: ')\n",
    "colls = [coll.path for coll in session.collections.get('/'+zone+'/'+'home').subcollections]\n",
    "print(colls)\n"
   ]
  },
  {
   "cell_type": "markdown",
   "metadata": {},
   "source": [
    "## Search for your input data\n",
    "User defined metadata is stored as Key-Value-Unit triples. In this iRODS instance we are looking for books which carry the key \"AUTHOR\" and where the value is \"Lewis Carroll\"."
   ]
  },
  {
   "cell_type": "code",
   "execution_count": null,
   "metadata": {},
   "outputs": [],
   "source": [
    "print('Searching for files')\n",
    "query = session.query(Collection.name, DataObject.name)\n",
    "# Filtering for AUTHOR == Lewis Carroll\n",
    "filteredQuery = query.filter(DataObjectMeta.name == ATTR_NAME).\\\n",
    "                          filter(DataObjectMeta.value == ATTR_VALUE)\n",
    "print(filteredQuery.all())\n",
    "iPaths = iParseQuery(filteredQuery)\n"
   ]
  },
  {
   "cell_type": "markdown",
   "metadata": {},
   "source": [
    "## Prepare data for analysis\n",
    "To have look inside of the data we have two options in iRODS:\n",
    "1. We download the data to our fast storage system and have the data available and ready for being read from there.\n",
    "2. In some cases single files can become too large to be downloaded quickly or even too large to fit into the memory of the machine you are working on. In that case we can stream files into memory, i.e. reading a file bit by bit or just the interesting parts.\n",
    "\n",
    "In this tutorial we will continue with option 1:"
   ]
  },
  {
   "cell_type": "code",
   "execution_count": null,
   "metadata": {},
   "outputs": [],
   "source": [
    "print('Downloading: ')\n",
    "print('\\n'.join(iPaths))\n",
    "iGetList(session, iPaths, dataDir)"
   ]
  },
  {
   "cell_type": "markdown",
   "metadata": {},
   "source": [
    "## Start your computational pipeline"
   ]
  },
  {
   "cell_type": "code",
   "execution_count": null,
   "metadata": {},
   "outputs": [],
   "source": [
    "print('Start wordcount')\n",
    "dataFiles = [dataDir+'/'+f for f in os.listdir(dataDir)]\n",
    "resFile = wordcount(dataFiles,resultsDir)\n",
    "print('Results of calculations:', resFile)\n"
   ]
  },
  {
   "cell_type": "markdown",
   "metadata": {},
   "source": [
    "What have we actually calculated?"
   ]
  },
  {
   "cell_type": "code",
   "execution_count": null,
   "metadata": {},
   "outputs": [],
   "source": [
    "with open(resFile, 'r') as f:\n",
    "    print(f.readlines())"
   ]
  },
  {
   "cell_type": "markdown",
   "metadata": {},
   "source": [
    "**Note**, our results are stored on the fast but not safe storage! We need to upload the data to iRODS quickly!\n",
    "## Uploading your data to safe storage through iRODS and annotating the results"
   ]
  },
  {
   "cell_type": "code",
   "execution_count": null,
   "metadata": {},
   "outputs": [],
   "source": [
    "coll = session.collections.get('/' + zone + '/home/' +user)\n",
    "objNames = [obj.name for obj in coll.data_objects]\n",
    "f = os.path.basename(resFile)\n",
    "# little trick to prevent overwriting of data, if the filename already exists in iRODS we extend it with a number\n",
    "count = 0\n",
    "while f in objNames:\n",
    "        f = os.path.basename(resFile) + '_' +str(count)\n",
    "        count = count + 1"
   ]
  },
  {
   "cell_type": "code",
   "execution_count": null,
   "metadata": {},
   "outputs": [],
   "source": [
    "print('Upload results to: ', coll.path + '/' + f)\n",
    "session.data_objects.put(resFile, coll.path + '/' + f)"
   ]
  },
  {
   "cell_type": "markdown",
   "metadata": {},
   "source": [
    "Now, we can annontate the data in iRODS to ensure we know later where we got it from:"
   ]
  },
  {
   "cell_type": "code",
   "execution_count": null,
   "metadata": {},
   "outputs": [],
   "source": [
    "print('Adding metadata to', coll.path + '/' + f)\n",
    "obj = session.data_objects.get(coll.path + '/' + f)\n",
    "for iPath in iPaths:\n",
    "        obj.metadata.add('prov:wasDerivedFrom', iPath)\n",
    "\n",
    "obj.metadata.add('ISEARCH', ATTR_NAME + '==' + ATTR_VALUE)\n",
    "obj.metadata.add('ISEARCHDATE', str(datetime.date.today()))\n",
    "obj.metadata.add('prov:SoftwareAgent', 'wordcount.py')\n"
   ]
  },
  {
   "cell_type": "markdown",
   "metadata": {},
   "source": [
    "## Last check: How is the file annotated in iRODS?"
   ]
  },
  {
   "cell_type": "code",
   "execution_count": null,
   "metadata": {},
   "outputs": [],
   "source": [
    "print('Metadata for: ', coll.path + '/' + f)\n",
    "print('\\n'.join([item.name +' \\t'+ item.value for item in obj.metadata.items()]))"
   ]
  },
  {
   "cell_type": "markdown",
   "metadata": {},
   "source": [
    "## Remove temporary data from scratch space"
   ]
  },
  {
   "cell_type": "code",
   "execution_count": null,
   "metadata": {},
   "outputs": [],
   "source": [
    "print(\"Removing local data in\", dataDir)\n",
    "rmtree(dataDir)\n",
    "print(\"Removing local data in\", resultsDir)\n",
    "rmtree(resultsDir)"
   ]
  }
 ],
 "metadata": {
  "kernelspec": {
   "display_name": "python 3.8.5",
   "language": "python",
   "name": "python3.8.5"
  },
  "language_info": {
   "codemirror_mode": {
    "name": "ipython",
    "version": 3
   },
   "file_extension": ".py",
   "mimetype": "text/x-python",
   "name": "python",
   "nbconvert_exporter": "python",
   "pygments_lexer": "ipython3",
   "version": "3.8.5"
  }
 },
 "nbformat": 4,
 "nbformat_minor": 2
}
